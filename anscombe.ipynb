{
 "cells": [
  {
   "cell_type": "markdown",
   "metadata": {},
   "source": [
    "# Investigate Anscombe's Quartet"
   ]
  },
  {
   "cell_type": "markdown",
   "metadata": {},
   "source": [
    "## Background of the Dataset"
   ]
  },
  {
   "cell_type": "markdown",
   "metadata": {},
   "source": [
    "Anscombe's quartet are four sets of bivariate data. They are of interest because they share many of the same measures of central tendency and variance, but when graphed it's obvious that the four data sets are very different.\n",
    "\n",
    "\n",
    "<img src='http://upload.wikimedia.org/wikipedia/en/d/d5/Francis_Anscombe.jpeg' width = \"350\">"
   ]
  },
  {
   "cell_type": "markdown",
   "metadata": {},
   "source": [
    "The four datasets were constructed by Francis Anscombe, a British statistican, who believed visualising data sets was essential to fully understanding the context of your results. \n",
    "\n",
    "Michael Friendly has described the early 20th Century as the ***Modern Dark Ages of Visualisation***, with mathematicans concerned with exact answers viewing graphical representations as inaccurate. By 1973, when Anscombe constructed his sets, computers were been used for statistical analysis of datasets, and many statisticans saw this as the way forward for data analysis, but programs for visualising data were still in their infancy and not widely used. \n",
    "\n",
    "In his introduction Anscombe points out that *'Most textbooks on statistical methods, and most statistical computer programs pay too little attention to graphs,'* suggesting that his paper was written in part as a challenge to accepted thinking of the time. "
   ]
  },
  {
   "cell_type": "markdown",
   "metadata": {},
   "source": [
    "**How did Anscombe create his dataset?**\n",
    "\n",
    "It is not known how Anscombe created his quartet. He encouraged the use of computer programs to perform statistical analysis, and was a computer programmer himself, at a time when many mathematicans saw statisticans using such programs as lesser mathematicians. "
   ]
  },
  {
   "cell_type": "markdown",
   "metadata": {},
   "source": [
    "## Plotting the Dataset"
   ]
  },
  {
   "cell_type": "code",
   "execution_count": 25,
   "metadata": {},
   "outputs": [],
   "source": [
    "import numpy as np #For calculations\n",
    "import matplotlib.pyplot as plt #For plotting data\n",
    "import statistics as s #Will be used for some statistical calculations\n",
    "import pandas as pd #For data manipulationS"
   ]
  },
  {
   "cell_type": "code",
   "execution_count": 26,
   "metadata": {},
   "outputs": [],
   "source": [
    "df = pd.read_csv('csv/anscombe.csv')"
   ]
  },
  {
   "cell_type": "markdown",
   "metadata": {},
   "source": [
    "## Set 1\n",
    "\n",
    "As each of these datasets only contain 11 rows, I'll begin by taking a look at set 1, and listing the data points"
   ]
  },
  {
   "cell_type": "code",
   "execution_count": 27,
   "metadata": {},
   "outputs": [
    {
     "data": {
      "text/html": [
       "<div>\n",
       "<style scoped>\n",
       "    .dataframe tbody tr th:only-of-type {\n",
       "        vertical-align: middle;\n",
       "    }\n",
       "\n",
       "    .dataframe tbody tr th {\n",
       "        vertical-align: top;\n",
       "    }\n",
       "\n",
       "    .dataframe thead th {\n",
       "        text-align: right;\n",
       "    }\n",
       "</style>\n",
       "<table border=\"1\" class=\"dataframe\">\n",
       "  <thead>\n",
       "    <tr style=\"text-align: right;\">\n",
       "      <th></th>\n",
       "      <th>x</th>\n",
       "      <th>y</th>\n",
       "      <th>Group</th>\n",
       "      <th>Position</th>\n",
       "    </tr>\n",
       "  </thead>\n",
       "  <tbody>\n",
       "    <tr>\n",
       "      <th>0</th>\n",
       "      <td>10</td>\n",
       "      <td>8.04</td>\n",
       "      <td>A</td>\n",
       "      <td>1</td>\n",
       "    </tr>\n",
       "    <tr>\n",
       "      <th>1</th>\n",
       "      <td>8</td>\n",
       "      <td>6.95</td>\n",
       "      <td>A</td>\n",
       "      <td>2</td>\n",
       "    </tr>\n",
       "    <tr>\n",
       "      <th>2</th>\n",
       "      <td>13</td>\n",
       "      <td>7.58</td>\n",
       "      <td>A</td>\n",
       "      <td>3</td>\n",
       "    </tr>\n",
       "    <tr>\n",
       "      <th>3</th>\n",
       "      <td>9</td>\n",
       "      <td>8.81</td>\n",
       "      <td>A</td>\n",
       "      <td>4</td>\n",
       "    </tr>\n",
       "    <tr>\n",
       "      <th>4</th>\n",
       "      <td>11</td>\n",
       "      <td>8.33</td>\n",
       "      <td>A</td>\n",
       "      <td>5</td>\n",
       "    </tr>\n",
       "    <tr>\n",
       "      <th>5</th>\n",
       "      <td>14</td>\n",
       "      <td>9.96</td>\n",
       "      <td>A</td>\n",
       "      <td>6</td>\n",
       "    </tr>\n",
       "    <tr>\n",
       "      <th>6</th>\n",
       "      <td>6</td>\n",
       "      <td>7.24</td>\n",
       "      <td>A</td>\n",
       "      <td>7</td>\n",
       "    </tr>\n",
       "    <tr>\n",
       "      <th>7</th>\n",
       "      <td>4</td>\n",
       "      <td>4.26</td>\n",
       "      <td>A</td>\n",
       "      <td>8</td>\n",
       "    </tr>\n",
       "    <tr>\n",
       "      <th>8</th>\n",
       "      <td>12</td>\n",
       "      <td>10.84</td>\n",
       "      <td>A</td>\n",
       "      <td>9</td>\n",
       "    </tr>\n",
       "    <tr>\n",
       "      <th>9</th>\n",
       "      <td>7</td>\n",
       "      <td>4.82</td>\n",
       "      <td>A</td>\n",
       "      <td>10</td>\n",
       "    </tr>\n",
       "    <tr>\n",
       "      <th>10</th>\n",
       "      <td>5</td>\n",
       "      <td>5.68</td>\n",
       "      <td>A</td>\n",
       "      <td>11</td>\n",
       "    </tr>\n",
       "  </tbody>\n",
       "</table>\n",
       "</div>"
      ],
      "text/plain": [
       "     x      y Group  Position\n",
       "0   10   8.04     A         1\n",
       "1    8   6.95     A         2\n",
       "2   13   7.58     A         3\n",
       "3    9   8.81     A         4\n",
       "4   11   8.33     A         5\n",
       "5   14   9.96     A         6\n",
       "6    6   7.24     A         7\n",
       "7    4   4.26     A         8\n",
       "8   12  10.84     A         9\n",
       "9    7   4.82     A        10\n",
       "10   5   5.68     A        11"
      ]
     },
     "execution_count": 27,
     "metadata": {},
     "output_type": "execute_result"
    }
   ],
   "source": [
    "## Put the first set in a data frame\n",
    "## Put the second set in a data frame\n",
    "set1=df.iloc[0:11]\n",
    "set1"
   ]
  },
  {
   "cell_type": "markdown",
   "metadata": {},
   "source": [
    "Given that we're dealing with bivariate data, let'd plot these data points on a scatter plot. "
   ]
  },
  {
   "cell_type": "code",
   "execution_count": 28,
   "metadata": {},
   "outputs": [
    {
     "data": {
      "image/png": "[encoded data removed]",
      "text/plain": [
       "<Figure size 432x288 with 1 Axes>"
      ]
     },
     "metadata": {},
     "output_type": "display_data"
    }
   ],
   "source": [
    "\n",
    "plt.title('Set 1')\n",
    "x = set1.loc[:, 'x']\n",
    "y = set1.loc[:, 'y']\n",
    "\n",
    "#Plotting my points\n",
    "plt.plot(x, y, 'ko')\n",
    "\n",
    "#Now using x and y let's get the slope m and the y-intercept c\n",
    "z= np.polyfit(x, y, 1)\n",
    "m, c = z\n",
    "\n",
    "#Plotting the best fit line in the domain 0 to 20\n",
    "x=np.arange(0, 21, 1)\n",
    "plt.plot(x, m*x+c, 'r-', label='Best fit line')\n",
    "\n",
    "plt.xlim(2, 20)\n",
    "plt.ylim(0, 15)\n",
    "plt.show()\n"
   ]
  },
  {
   "cell_type": "markdown",
   "metadata": {},
   "source": [
    "## Set 2"
   ]
  },
  {
   "cell_type": "code",
   "execution_count": 29,
   "metadata": {},
   "outputs": [
    {
     "data": {
      "text/html": [
       "<div>\n",
       "<style scoped>\n",
       "    .dataframe tbody tr th:only-of-type {\n",
       "        vertical-align: middle;\n",
       "    }\n",
       "\n",
       "    .dataframe tbody tr th {\n",
       "        vertical-align: top;\n",
       "    }\n",
       "\n",
       "    .dataframe thead th {\n",
       "        text-align: right;\n",
       "    }\n",
       "</style>\n",
       "<table border=\"1\" class=\"dataframe\">\n",
       "  <thead>\n",
       "    <tr style=\"text-align: right;\">\n",
       "      <th></th>\n",
       "      <th>x</th>\n",
       "      <th>y</th>\n",
       "      <th>Group</th>\n",
       "      <th>Position</th>\n",
       "    </tr>\n",
       "  </thead>\n",
       "  <tbody>\n",
       "    <tr>\n",
       "      <th>11</th>\n",
       "      <td>10</td>\n",
       "      <td>9.14</td>\n",
       "      <td>B</td>\n",
       "      <td>1</td>\n",
       "    </tr>\n",
       "    <tr>\n",
       "      <th>12</th>\n",
       "      <td>8</td>\n",
       "      <td>8.14</td>\n",
       "      <td>B</td>\n",
       "      <td>2</td>\n",
       "    </tr>\n",
       "    <tr>\n",
       "      <th>13</th>\n",
       "      <td>13</td>\n",
       "      <td>8.74</td>\n",
       "      <td>B</td>\n",
       "      <td>3</td>\n",
       "    </tr>\n",
       "    <tr>\n",
       "      <th>14</th>\n",
       "      <td>9</td>\n",
       "      <td>8.77</td>\n",
       "      <td>B</td>\n",
       "      <td>4</td>\n",
       "    </tr>\n",
       "    <tr>\n",
       "      <th>15</th>\n",
       "      <td>11</td>\n",
       "      <td>9.26</td>\n",
       "      <td>B</td>\n",
       "      <td>5</td>\n",
       "    </tr>\n",
       "    <tr>\n",
       "      <th>16</th>\n",
       "      <td>14</td>\n",
       "      <td>8.10</td>\n",
       "      <td>B</td>\n",
       "      <td>6</td>\n",
       "    </tr>\n",
       "    <tr>\n",
       "      <th>17</th>\n",
       "      <td>6</td>\n",
       "      <td>6.13</td>\n",
       "      <td>B</td>\n",
       "      <td>7</td>\n",
       "    </tr>\n",
       "    <tr>\n",
       "      <th>18</th>\n",
       "      <td>4</td>\n",
       "      <td>3.10</td>\n",
       "      <td>B</td>\n",
       "      <td>8</td>\n",
       "    </tr>\n",
       "    <tr>\n",
       "      <th>19</th>\n",
       "      <td>12</td>\n",
       "      <td>9.13</td>\n",
       "      <td>B</td>\n",
       "      <td>9</td>\n",
       "    </tr>\n",
       "    <tr>\n",
       "      <th>20</th>\n",
       "      <td>7</td>\n",
       "      <td>7.26</td>\n",
       "      <td>B</td>\n",
       "      <td>10</td>\n",
       "    </tr>\n",
       "    <tr>\n",
       "      <th>21</th>\n",
       "      <td>5</td>\n",
       "      <td>4.74</td>\n",
       "      <td>B</td>\n",
       "      <td>11</td>\n",
       "    </tr>\n",
       "  </tbody>\n",
       "</table>\n",
       "</div>"
      ],
      "text/plain": [
       "     x     y Group  Position\n",
       "11  10  9.14     B         1\n",
       "12   8  8.14     B         2\n",
       "13  13  8.74     B         3\n",
       "14   9  8.77     B         4\n",
       "15  11  9.26     B         5\n",
       "16  14  8.10     B         6\n",
       "17   6  6.13     B         7\n",
       "18   4  3.10     B         8\n",
       "19  12  9.13     B         9\n",
       "20   7  7.26     B        10\n",
       "21   5  4.74     B        11"
      ]
     },
     "execution_count": 29,
     "metadata": {},
     "output_type": "execute_result"
    }
   ],
   "source": [
    "## Put the second set in a data frame\n",
    "set2=df.iloc[11:22]\n",
    "set2"
   ]
  },
  {
   "cell_type": "code",
   "execution_count": 64,
   "metadata": {},
   "outputs": [
    {
     "data": {
      "image/png": "[encoded data removed]",
      "text/plain": [
       "<Figure size 432x288 with 1 Axes>"
      ]
     },
     "metadata": {},
     "output_type": "display_data"
    }
   ],
   "source": [
    "plt.title('Set 2')\n",
    "plt.xlim(2, 20)\n",
    "plt.ylim(0, 15)\n",
    "\n",
    "\n",
    "\n",
    "x = set2.loc[:, 'x']\n",
    "y = set2.loc[:, 'y']\n",
    "plt.plot(x, y, 'ko')\n",
    "\n",
    "\n",
    "#Fitting a line \n",
    "import numpy.polynomial.polynomial as poly\n",
    "z= poly.polyfit(x, y, 2)\n",
    "\n",
    "fit_x = np.arange(0, 20, 1)\n",
    "\n",
    "fit_y = poly.polyval(fit_x, z)\n",
    "plt.plot(fit_x, fit_y, 'r-')\n",
    "\n",
    "plt.show()\n"
   ]
  },
  {
   "cell_type": "markdown",
   "metadata": {},
   "source": [
    "## Set 3"
   ]
  },
  {
   "cell_type": "code",
   "execution_count": 31,
   "metadata": {},
   "outputs": [
    {
     "data": {
      "text/html": [
       "<div>\n",
       "<style scoped>\n",
       "    .dataframe tbody tr th:only-of-type {\n",
       "        vertical-align: middle;\n",
       "    }\n",
       "\n",
       "    .dataframe tbody tr th {\n",
       "        vertical-align: top;\n",
       "    }\n",
       "\n",
       "    .dataframe thead th {\n",
       "        text-align: right;\n",
       "    }\n",
       "</style>\n",
       "<table border=\"1\" class=\"dataframe\">\n",
       "  <thead>\n",
       "    <tr style=\"text-align: right;\">\n",
       "      <th></th>\n",
       "      <th>x</th>\n",
       "      <th>y</th>\n",
       "      <th>Group</th>\n",
       "      <th>Position</th>\n",
       "    </tr>\n",
       "  </thead>\n",
       "  <tbody>\n",
       "    <tr>\n",
       "      <th>22</th>\n",
       "      <td>10</td>\n",
       "      <td>7.46</td>\n",
       "      <td>C</td>\n",
       "      <td>1</td>\n",
       "    </tr>\n",
       "    <tr>\n",
       "      <th>23</th>\n",
       "      <td>8</td>\n",
       "      <td>6.77</td>\n",
       "      <td>C</td>\n",
       "      <td>2</td>\n",
       "    </tr>\n",
       "    <tr>\n",
       "      <th>24</th>\n",
       "      <td>13</td>\n",
       "      <td>12.74</td>\n",
       "      <td>C</td>\n",
       "      <td>3</td>\n",
       "    </tr>\n",
       "    <tr>\n",
       "      <th>25</th>\n",
       "      <td>9</td>\n",
       "      <td>7.11</td>\n",
       "      <td>C</td>\n",
       "      <td>4</td>\n",
       "    </tr>\n",
       "    <tr>\n",
       "      <th>26</th>\n",
       "      <td>11</td>\n",
       "      <td>7.81</td>\n",
       "      <td>C</td>\n",
       "      <td>5</td>\n",
       "    </tr>\n",
       "    <tr>\n",
       "      <th>27</th>\n",
       "      <td>14</td>\n",
       "      <td>8.84</td>\n",
       "      <td>C</td>\n",
       "      <td>6</td>\n",
       "    </tr>\n",
       "    <tr>\n",
       "      <th>28</th>\n",
       "      <td>6</td>\n",
       "      <td>6.08</td>\n",
       "      <td>C</td>\n",
       "      <td>7</td>\n",
       "    </tr>\n",
       "    <tr>\n",
       "      <th>29</th>\n",
       "      <td>4</td>\n",
       "      <td>5.39</td>\n",
       "      <td>C</td>\n",
       "      <td>8</td>\n",
       "    </tr>\n",
       "    <tr>\n",
       "      <th>30</th>\n",
       "      <td>12</td>\n",
       "      <td>8.15</td>\n",
       "      <td>C</td>\n",
       "      <td>9</td>\n",
       "    </tr>\n",
       "    <tr>\n",
       "      <th>31</th>\n",
       "      <td>7</td>\n",
       "      <td>6.42</td>\n",
       "      <td>C</td>\n",
       "      <td>10</td>\n",
       "    </tr>\n",
       "    <tr>\n",
       "      <th>32</th>\n",
       "      <td>5</td>\n",
       "      <td>5.73</td>\n",
       "      <td>C</td>\n",
       "      <td>11</td>\n",
       "    </tr>\n",
       "  </tbody>\n",
       "</table>\n",
       "</div>"
      ],
      "text/plain": [
       "     x      y Group  Position\n",
       "22  10   7.46     C         1\n",
       "23   8   6.77     C         2\n",
       "24  13  12.74     C         3\n",
       "25   9   7.11     C         4\n",
       "26  11   7.81     C         5\n",
       "27  14   8.84     C         6\n",
       "28   6   6.08     C         7\n",
       "29   4   5.39     C         8\n",
       "30  12   8.15     C         9\n",
       "31   7   6.42     C        10\n",
       "32   5   5.73     C        11"
      ]
     },
     "execution_count": 31,
     "metadata": {},
     "output_type": "execute_result"
    }
   ],
   "source": [
    "## Put the third set in a data frame, using Boolean selects this time\n",
    "set3 = df.loc[df.loc[:, 'Group'] =='C']\n",
    "set3"
   ]
  },
  {
   "cell_type": "code",
   "execution_count": 32,
   "metadata": {},
   "outputs": [
    {
     "data": {
      "image/png": "[encoded data removed]",
      "text/plain": [
       "<Figure size 432x288 with 1 Axes>"
      ]
     },
     "metadata": {},
     "output_type": "display_data"
    }
   ],
   "source": [
    "plt.title('Set 3')\n",
    "plt.xlim(2, 20)\n",
    "plt.ylim(0, 15)\n",
    "\n",
    "x = set3.loc[:, 'x']\n",
    "y = set3.loc[:, 'y']\n",
    "plt.plot(x, y, 'ko')\n",
    "plt.show()"
   ]
  },
  {
   "cell_type": "markdown",
   "metadata": {},
   "source": [
    "## Set 4 "
   ]
  },
  {
   "cell_type": "code",
   "execution_count": 33,
   "metadata": {},
   "outputs": [
    {
     "data": {
      "text/html": [
       "<div>\n",
       "<style scoped>\n",
       "    .dataframe tbody tr th:only-of-type {\n",
       "        vertical-align: middle;\n",
       "    }\n",
       "\n",
       "    .dataframe tbody tr th {\n",
       "        vertical-align: top;\n",
       "    }\n",
       "\n",
       "    .dataframe thead th {\n",
       "        text-align: right;\n",
       "    }\n",
       "</style>\n",
       "<table border=\"1\" class=\"dataframe\">\n",
       "  <thead>\n",
       "    <tr style=\"text-align: right;\">\n",
       "      <th></th>\n",
       "      <th>x</th>\n",
       "      <th>y</th>\n",
       "      <th>Group</th>\n",
       "      <th>Position</th>\n",
       "    </tr>\n",
       "  </thead>\n",
       "  <tbody>\n",
       "    <tr>\n",
       "      <th>33</th>\n",
       "      <td>8</td>\n",
       "      <td>6.58</td>\n",
       "      <td>D</td>\n",
       "      <td>1</td>\n",
       "    </tr>\n",
       "    <tr>\n",
       "      <th>34</th>\n",
       "      <td>8</td>\n",
       "      <td>5.76</td>\n",
       "      <td>D</td>\n",
       "      <td>2</td>\n",
       "    </tr>\n",
       "    <tr>\n",
       "      <th>35</th>\n",
       "      <td>8</td>\n",
       "      <td>7.71</td>\n",
       "      <td>D</td>\n",
       "      <td>3</td>\n",
       "    </tr>\n",
       "    <tr>\n",
       "      <th>36</th>\n",
       "      <td>8</td>\n",
       "      <td>8.84</td>\n",
       "      <td>D</td>\n",
       "      <td>4</td>\n",
       "    </tr>\n",
       "    <tr>\n",
       "      <th>37</th>\n",
       "      <td>8</td>\n",
       "      <td>8.47</td>\n",
       "      <td>D</td>\n",
       "      <td>5</td>\n",
       "    </tr>\n",
       "    <tr>\n",
       "      <th>38</th>\n",
       "      <td>8</td>\n",
       "      <td>7.04</td>\n",
       "      <td>D</td>\n",
       "      <td>6</td>\n",
       "    </tr>\n",
       "    <tr>\n",
       "      <th>39</th>\n",
       "      <td>8</td>\n",
       "      <td>5.25</td>\n",
       "      <td>D</td>\n",
       "      <td>7</td>\n",
       "    </tr>\n",
       "    <tr>\n",
       "      <th>40</th>\n",
       "      <td>19</td>\n",
       "      <td>12.50</td>\n",
       "      <td>D</td>\n",
       "      <td>8</td>\n",
       "    </tr>\n",
       "    <tr>\n",
       "      <th>41</th>\n",
       "      <td>8</td>\n",
       "      <td>5.56</td>\n",
       "      <td>D</td>\n",
       "      <td>9</td>\n",
       "    </tr>\n",
       "    <tr>\n",
       "      <th>42</th>\n",
       "      <td>8</td>\n",
       "      <td>7.91</td>\n",
       "      <td>D</td>\n",
       "      <td>10</td>\n",
       "    </tr>\n",
       "    <tr>\n",
       "      <th>43</th>\n",
       "      <td>8</td>\n",
       "      <td>6.89</td>\n",
       "      <td>D</td>\n",
       "      <td>11</td>\n",
       "    </tr>\n",
       "  </tbody>\n",
       "</table>\n",
       "</div>"
      ],
      "text/plain": [
       "     x      y Group  Position\n",
       "33   8   6.58     D         1\n",
       "34   8   5.76     D         2\n",
       "35   8   7.71     D         3\n",
       "36   8   8.84     D         4\n",
       "37   8   8.47     D         5\n",
       "38   8   7.04     D         6\n",
       "39   8   5.25     D         7\n",
       "40  19  12.50     D         8\n",
       "41   8   5.56     D         9\n",
       "42   8   7.91     D        10\n",
       "43   8   6.89     D        11"
      ]
     },
     "execution_count": 33,
     "metadata": {},
     "output_type": "execute_result"
    }
   ],
   "source": [
    "## Put the fourth set in a data frame\n",
    "set4 = df.loc[df.loc[:, 'Group'] =='D']\n",
    "set4"
   ]
  },
  {
   "cell_type": "code",
   "execution_count": 34,
   "metadata": {},
   "outputs": [
    {
     "data": {
      "image/png": "[encoded data removed]",
      "text/plain": [
       "<Figure size 432x288 with 1 Axes>"
      ]
     },
     "metadata": {},
     "output_type": "display_data"
    }
   ],
   "source": [
    "plt.title('Set 4')\n",
    "plt.xlim(2, 20)\n",
    "plt.ylim(0, 15)\n",
    "\n",
    "x = set4.loc[:, 'x']\n",
    "y = set4.loc[:, 'y']\n",
    "plt.plot(x, y, 'ko')\n",
    "plt.show()\n"
   ]
  },
  {
   "cell_type": "markdown",
   "metadata": {},
   "source": [
    "## Calculate the descriptive statistics of the variables in the dataset"
   ]
  },
  {
   "cell_type": "code",
   "execution_count": 35,
   "metadata": {},
   "outputs": [],
   "source": [
    "x1 = set1.loc[:, 'x']\n",
    "y1 = set1.loc[:, 'y']\n",
    "x2 = set2.loc[:, 'x']\n",
    "y2 = set2.loc[:, 'y']\n",
    "x3 = set3.loc[:, 'x']\n",
    "y3 = set3.loc[:, 'y']\n",
    "x4 = set4.loc[:, 'x']\n",
    "y4 = set4.loc[:, 'y']"
   ]
  },
  {
   "cell_type": "markdown",
   "metadata": {},
   "source": [
    "### Mean and Variance of x"
   ]
  },
  {
   "cell_type": "code",
   "execution_count": 36,
   "metadata": {},
   "outputs": [
    {
     "name": "stdout",
     "output_type": "stream",
     "text": [
      "The mean of x values in the first set is,    9\n",
      "The mean of x values in the second set is,   9\n",
      "The mean of x values in the third set is,    9\n",
      "The mean of x values in the fourth set is,   9\n"
     ]
    }
   ],
   "source": [
    "mean_x1 = np.mean(x1) \n",
    "mean_x2 = np.mean(x2)\n",
    "mean_x3 = np.mean(x3)\n",
    "mean_x4 = np.mean(x4)\n",
    "\n",
    "print('The mean of x values in the first set is, %4.0f' % (mean_x1))\n",
    "print('The mean of x values in the second set is, %3.0f' % (mean_x2))\n",
    "print('The mean of x values in the third set is, %4.0f' % (mean_x3))\n",
    "print('The mean of x values in the fourth set is, %3.0f' % (mean_x4))\n"
   ]
  },
  {
   "cell_type": "code",
   "execution_count": 47,
   "metadata": {},
   "outputs": [
    {
     "name": "stdout",
     "output_type": "stream",
     "text": [
      "The sample variance of x values in the first set is,   11\n",
      "The sample variance of x values in the second set is,  11\n",
      "The sample variance of x values in the third set is,   11\n",
      "The sample variance of x values in the fourth set is,  11\n"
     ]
    }
   ],
   "source": [
    "#Calculating the sample variance of the x values \n",
    "sam_varx1 = s.variance(x1)\n",
    "sam_varx2 = s.variance(x2)\n",
    "sam_varx3 = s.variance(x3)\n",
    "sam_varx4 = s.variance(x4)\n",
    "\n",
    "print('The sample variance of x values in the first set is, %4.0f' % (sam_varx1))\n",
    "print('The sample variance of x values in the second set is, %3.0f' % (sam_varx2))\n",
    "print('The sample variance of x values in the third set is, %4.0f' % (sam_varx3))\n",
    "print('The sample variance of x values in the fourth set is, %3.0f' % (sam_varx4))"
   ]
  },
  {
   "cell_type": "code",
   "execution_count": 48,
   "metadata": {},
   "outputs": [
    {
     "name": "stdout",
     "output_type": "stream",
     "text": [
      "The variance of x values in the first set is,   10\n",
      "The variance of x values in the second set is,  10\n",
      "The variance of x values in the third set is,   10\n",
      "The variance of x values in the fourth set is,  10\n"
     ]
    }
   ],
   "source": [
    "varx1 = (np.var(x1))\n",
    "varx2 = (np.var(x2))\n",
    "varx3 = np.var(x3)\n",
    "varx4 = np.var(x4)\n",
    "\n",
    "print('The variance of x values in the first set is, %4.0f' % (varx1))\n",
    "print('The variance of x values in the second set is, %3.0f' % (varx2))\n",
    "print('The variance of x values in the third set is, %4.0f' % (varx3))\n",
    "print('The variance of x values in the fourth set is, %3.0f' % (varx4))"
   ]
  },
  {
   "cell_type": "code",
   "execution_count": 39,
   "metadata": {},
   "outputs": [
    {
     "name": "stdout",
     "output_type": "stream",
     "text": [
      "The standard deviation of x values in the first set is,   3.1622776602\n",
      "The standard deviation of x values in the second set is,  3.1622776602\n",
      "The standard deviation of x values in the third set is,   3.1622776602\n",
      "The standard deviation of x values in the fourth set is,  3.1622776602\n"
     ]
    }
   ],
   "source": [
    "st_x1 = np.sqrt(np.var(x1))\n",
    "st_x2 = np.sqrt(np.var(x2))\n",
    "st_x3 = np.sqrt(np.var(x3))\n",
    "st_x4 = np.sqrt(np.var(x4))\n",
    "\n",
    "print('The standard deviation of x values in the first set is, %14.10f' % (st_x1))\n",
    "print('The standard deviation of x values in the second set is, %13.10f' % (st_x2))\n",
    "print('The standard deviation of x values in the third set is, %14.10f' % (st_x3))\n",
    "print('The standard deviation of x values in the fourth set is, %13.10f' % (st_x4))"
   ]
  },
  {
   "cell_type": "markdown",
   "metadata": {},
   "source": [
    "### Mean and Variance of y"
   ]
  },
  {
   "cell_type": "code",
   "execution_count": 40,
   "metadata": {},
   "outputs": [
    {
     "name": "stdout",
     "output_type": "stream",
     "text": [
      "The mean of y values in the first set is,  7.50\n",
      "The mean of y values in the second set is, 7.50\n",
      "The mean of y values in the third set is,  7.50\n",
      "The mean of y values in the fourth set is, 7.50\n"
     ]
    }
   ],
   "source": [
    "mean_y1 = np.mean(y1) \n",
    "mean_y2 = np.mean(y2)\n",
    "mean_y3 = np.mean(y3)\n",
    "mean_y4 = np.mean(y4)\n",
    "\n",
    "print('The mean of y values in the first set is, %5.2f' % (mean_y1))\n",
    "print('The mean of y values in the second set is, %3.2f' % (mean_y2))\n",
    "print('The mean of y values in the third set is, %5.2f' % (mean_y3))\n",
    "print('The mean of y values in the fourth set is, %3.2f' % (mean_y4))\n"
   ]
  },
  {
   "cell_type": "code",
   "execution_count": 41,
   "metadata": {},
   "outputs": [
    {
     "name": "stdout",
     "output_type": "stream",
     "text": [
      "The sample variance of x values in the first set is,  4.127\n",
      "The sample variance of x values in the second set is, 4.128\n",
      "The sample variance of x values in the third set is,  4.123\n",
      "The sample variance of x values in the fourth set is, 4.123\n"
     ]
    }
   ],
   "source": [
    "\n",
    "sam_vary1 = s.variance(y1)\n",
    "sam_vary2 = s.variance(y2)\n",
    "sam_vary3 = s.variance(y3)\n",
    "sam_vary4 = s.variance(y4)\n",
    "\n",
    "print('The sample variance of x values in the first set is, %6.3f' % (sam_vary1))\n",
    "print('The sample variance of x values in the second set is, %5.3f' % (sam_vary2))\n",
    "print('The sample variance of x values in the third set is, %6.3f' % (sam_vary3))\n",
    "print('The sample variance of x values in the fourth set is, %5.3f' % (sam_vary4))"
   ]
  },
  {
   "cell_type": "code",
   "execution_count": 42,
   "metadata": {},
   "outputs": [
    {
     "name": "stdout",
     "output_type": "stream",
     "text": [
      "The variance of y values in the first set is,    3.75\n",
      "The variance of y values in the second set is,   3.75\n",
      "The variance of y values in the third set is,    3.75\n",
      "The variance of y values in the fourth set is,   3.75\n"
     ]
    }
   ],
   "source": [
    "vary1 = np.var(y1)\n",
    "vary2 = np.var(y2)\n",
    "vary3 = np.var(y3)\n",
    "vary4 = np.var(y4)\n",
    "\n",
    "print('The variance of y values in the first set is, %7.2f' % (vary1))\n",
    "print('The variance of y values in the second set is, %6.2f' % (vary2))\n",
    "print('The variance of y values in the third set is, %7.2f' % (vary3))\n",
    "print('The variance of y values in the fourth set is, %6.2f' % (vary4))"
   ]
  },
  {
   "cell_type": "code",
   "execution_count": 43,
   "metadata": {},
   "outputs": [
    {
     "name": "stdout",
     "output_type": "stream",
     "text": [
      "The standard deviation of y values in the first set is,  1.94\n",
      "The standard deviation of y values in the second set is, 1.94\n",
      "The standard deviation of y values in the third set is,  1.94\n",
      "The standard deviation of y values in the fourth set is, 1.94\n"
     ]
    }
   ],
   "source": [
    "st_y1 = np.sqrt(np.var(y1))\n",
    "st_y2 = np.sqrt(np.var(y2))\n",
    "st_y3 = np.sqrt(np.var(y3))\n",
    "st_y4 = np.sqrt(np.var(y4))\n",
    "\n",
    "print('The standard deviation of y values in the first set is, %5.2f' % (st_y1))\n",
    "print('The standard deviation of y values in the second set is, %.2f' % (st_y2))\n",
    "print('The standard deviation of y values in the third set is, %5.2f' % (st_y3))\n",
    "print('The standard deviation of y values in the fourth set is, %.2f' % (st_y4))"
   ]
  },
  {
   "cell_type": "markdown",
   "metadata": {},
   "source": [
    "### Correlation Coefficient and R-Squared Values"
   ]
  },
  {
   "cell_type": "code",
   "execution_count": 44,
   "metadata": {},
   "outputs": [
    {
     "name": "stdout",
     "output_type": "stream",
     "text": [
      "The correlation coefficient of Set 1 is, 0.816\n",
      "The correlation coefficient of Set 2 is, 0.816\n",
      "The correlation coefficient of Set 3 is, 0.816\n",
      "The correlation coefficient of Set 4 is, 0.817\n"
     ]
    }
   ],
   "source": [
    "corr1 = np.corrcoef(x1, y1)[0, 1]\n",
    "corr2 = np.corrcoef(x2, y2)[0, 1]\n",
    "corr3 = np.corrcoef(x3, y3)[0, 1]\n",
    "corr4 = np.corrcoef(x4, y4)[0, 1]\n",
    "print('The correlation coefficient of Set 1 is, %5.3f' % (corr1))\n",
    "print('The correlation coefficient of Set 2 is, %3.3f' % (corr2))\n",
    "print('The correlation coefficient of Set 3 is, %5.3f' % (corr3))\n",
    "print('The correlation coefficient of Set 4 is, %3.3f' % (corr4))\n"
   ]
  },
  {
   "cell_type": "code",
   "execution_count": 45,
   "metadata": {},
   "outputs": [
    {
     "name": "stdout",
     "output_type": "stream",
     "text": [
      "The r-squared value of Set 1 is, 0.67\n",
      "The r-squared value of Set 2 is, 0.67\n",
      "The r-squared value of Set 3 is, 0.67\n",
      "The r-squared value of Set 4 is, 0.67\n"
     ]
    }
   ],
   "source": [
    "print('The r-squared value of Set 1 is, %.2f' % ((corr1)**2))\n",
    "print('The r-squared value of Set 2 is, %.2f' % ((corr2)**2))\n",
    "print('The r-squared value of Set 3 is, %.2f' % ((corr3)**2))\n",
    "print('The r-squared value of Set 4 is, %.2f' % ((corr4)**2))"
   ]
  },
  {
   "cell_type": "markdown",
   "metadata": {},
   "source": [
    "### Equation of the Linear Regression Line"
   ]
  },
  {
   "cell_type": "code",
   "execution_count": 46,
   "metadata": {},
   "outputs": [
    {
     "name": "stdout",
     "output_type": "stream",
     "text": [
      "The best fit line equation for Set 1: y= 0.50 x + 3.00\n",
      "The best fit line equation for Set 2: y= 0.50 x + 3.00\n",
      "The best fit line equation for Set 3: y= 0.50 x + 3.00\n",
      "The best fit line equation for Set 4: y= 0.50 x + 3.00\n"
     ]
    }
   ],
   "source": [
    "one = np.polyfit(x1, y1, 1)\n",
    "m, c = one\n",
    "print('The best fit line equation for Set 1: y= %3.2f x + %3.2f' % (m, c))\n",
    "\n",
    "two = np.polyfit(x2, y2, 1)\n",
    "m, c = two\n",
    "print('The best fit line equation for Set 2: y= %3.2f x + %3.2f' % (m, c))\n",
    "\n",
    "three= np.polyfit(x2, y2, 1)\n",
    "m, c = three\n",
    "print('The best fit line equation for Set 3: y= %3.2f x + %3.2f' % (m, c))\n",
    "\n",
    "four= np.polyfit(x2, y2, 1)\n",
    "m, c = four\n",
    "print('The best fit line equation for Set 4: y= %3.2f x + %3.2f' % (m, c))"
   ]
  },
  {
   "cell_type": "markdown",
   "metadata": {},
   "source": [
    "## Evaluation "
   ]
  },
  {
   "cell_type": "code",
   "execution_count": null,
   "metadata": {},
   "outputs": [],
   "source": []
  },
  {
   "cell_type": "markdown",
   "metadata": {},
   "source": [
    "## References\n",
    "\n",
    "* [Anscombe's Quartet, Wikipedia page](https://en.wikipedia.org/wiki/Anscombe%27s_quartet), accessed 12th October 2018.\n",
    "* [The ASA Statistical Computing Section: A History](http://stat-computing.org/computing/history/chambers-ryan.html) by John M. Chambers and Barbara F. Ryan, originally appeared in The American Statistician, May 1990 (Volume 4, No. 2, pp 87-89). Accessed 12th October 2018.\n",
    "* [A Brief History of Data Visualization (Archived Link)](https://web.archive.org/web/20160531195841/http://www.datavis.ca/papers/hbook.pdf) by Michael Friendly, Handbook of Computational Statistics: Data Visualization, 2006. Accessed 12th October 2018.\n",
    "* [Graphs in statistical analysis](http://www.sjsu.edu/faculty/gerstman/StatPrimer/anscombe1973.pdf) by Francis Anscombe, American Statistician, 27, 17–21, 1973. Accessed 13th October 2018."
   ]
  },
  {
   "cell_type": "code",
   "execution_count": null,
   "metadata": {},
   "outputs": [],
   "source": []
  }
 ],
 "metadata": {
  "kernelspec": {
   "display_name": "Python 3",
   "language": "python",
   "name": "python3"
  },
  "language_info": {
   "codemirror_mode": {
    "name": "ipython",
    "version": 3
   },
   "file_extension": ".py",
   "mimetype": "text/x-python",
   "name": "python",
   "nbconvert_exporter": "python",
   "pygments_lexer": "ipython3",
   "version": "3.6.5"
  }
 },
 "nbformat": 4,
 "nbformat_minor": 2
}
