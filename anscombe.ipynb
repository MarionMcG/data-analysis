{
 "cells": [
  {
   "cell_type": "markdown",
   "metadata": {},
   "source": [
    "# Investigate Anscombe's Quartet"
   ]
  },
  {
   "cell_type": "markdown",
   "metadata": {},
   "source": [
    "## Background of the Dataset"
   ]
  },
  {
   "cell_type": "markdown",
   "metadata": {},
   "source": [
    "Anscombe's quartet are four sets of bivariate data. They are of interest because they share many of the same measures of central tendency and variance, but when graphed it's obvious that the four data sets are very different.\n",
    "\n",
    "<img src=\"images/datasets.png\" style=\"width: 450px;\"/>"
   ]
  },
  {
   "cell_type": "markdown",
   "metadata": {},
   "source": [
    "The four datasets were constructed by Francis Anscombe, a British statistican, who believed visualising data sets was essential to fully understanding the context of your results. \n",
    "\n",
    "Michael Friendly has described the early 20th Century as the ***Modern Dark Ages of Visualisation***, with mathematicans concerned with exact answers viewing graphical representations as inaccurate. By 1973, when Anscombe constructed his sets, computers were been used for statistical analysis of datasets, and many statisticans saw this as the way forward for data analysis, but programs for visualising data were still in their infancy and not widely used.  "
   ]
  },
  {
   "cell_type": "markdown",
   "metadata": {},
   "source": [
    "## Plotting the Dataset"
   ]
  },
  {
   "cell_type": "code",
   "execution_count": 1,
   "metadata": {},
   "outputs": [],
   "source": [
    "import numpy as np\n",
    "import matplotlib.pyplot as plt"
   ]
  },
  {
   "cell_type": "code",
   "execution_count": 2,
   "metadata": {},
   "outputs": [],
   "source": [
    "#Set 1\n",
    "x1 = [10, 8, 13, 9, 11, 14, 6, 4, 12, 7, 5]\n",
    "y1 = [8.04, 6.95, 7.58, 8.81, 8.33, 9.96, 7.24, 4.26, 10.84, 4.82, 5.68]\n"
   ]
  },
  {
   "cell_type": "code",
   "execution_count": 11,
   "metadata": {},
   "outputs": [],
   "source": [
    "import csv"
   ]
  },
  {
   "cell_type": "code",
   "execution_count": null,
   "metadata": {},
   "outputs": [],
   "source": [
    "with open ('csv/anscombe.csv') as f:\n",
    "    data = csv.reader(f, delimiter=',')\n",
    "    for row in data:\n",
    "        counter ==0\n",
    "        counter +=1\n",
    "        while counter <=12\n",
    "        print (row)"
   ]
  },
  {
   "cell_type": "code",
   "execution_count": 28,
   "metadata": {
    "scrolled": true
   },
   "outputs": [
    {
     "name": "stdout",
     "output_type": "stream",
     "text": [
      "['x'] y\n",
      "['10'] 8.04\n",
      "['8'] 6.95\n",
      "['13'] 7.58\n",
      "['9'] 8.81\n",
      "['11'] 8.33\n",
      "['14'] 9.96\n",
      "['6'] 7.24\n",
      "['4'] 4.26\n",
      "['12'] 10.84\n",
      "['7'] 4.82\n",
      "['5'] 5.68\n",
      "['10'] 9.14\n",
      "['8'] 8.14\n",
      "['13'] 8.74\n",
      "['9'] 8.77\n",
      "['11'] 9.26\n",
      "['14'] 8.1\n",
      "['6'] 6.13\n",
      "['4'] 3.1\n",
      "['12'] 9.13\n",
      "['7'] 7.26\n",
      "['5'] 4.74\n",
      "['10'] 7.46\n",
      "['8'] 6.77\n",
      "['13'] 12.74\n",
      "['9'] 7.11\n",
      "['11'] 7.81\n",
      "['14'] 8.84\n",
      "['6'] 6.08\n",
      "['4'] 5.39\n",
      "['12'] 8.15\n",
      "['7'] 6.42\n",
      "['5'] 5.73\n",
      "['8'] 6.58\n",
      "['8'] 5.76\n",
      "['8'] 7.71\n",
      "['8'] 8.84\n",
      "['8'] 8.47\n",
      "['8'] 7.04\n",
      "['8'] 5.25\n",
      "['19'] 12.5\n",
      "['8'] 5.56\n",
      "['8'] 7.91\n",
      "['8'] 6.89\n"
     ]
    }
   ],
   "source": [
    "with open (\"csv/anscombe.csv\") as f:\n",
    "    data = csv.reader(f, delimiter=',')\n",
    "    for row in data:\n",
    "        x1=(row[0].split(','))\n",
    "        y1 = (row[1])\n",
    "        print(x1,y1 ) "
   ]
  },
  {
   "cell_type": "code",
   "execution_count": null,
   "metadata": {},
   "outputs": [],
   "source": [
    "import numpy as np\n",
    "data=np.genfromtxt('csv/anscombe.csv', delimiter=',')\n",
    "print(data[:, 0])"
   ]
  },
  {
   "cell_type": "markdown",
   "metadata": {},
   "source": [
    "## Calculate the descriptive statistics of the variables in the dataset"
   ]
  },
  {
   "cell_type": "code",
   "execution_count": null,
   "metadata": {},
   "outputs": [],
   "source": []
  },
  {
   "cell_type": "markdown",
   "metadata": {},
   "source": [
    "## Evaluation "
   ]
  },
  {
   "cell_type": "code",
   "execution_count": null,
   "metadata": {},
   "outputs": [],
   "source": []
  },
  {
   "cell_type": "markdown",
   "metadata": {},
   "source": [
    "## References\n",
    "\n",
    "* [Anscombe's Quartet, Wikipedia page](https://en.wikipedia.org/wiki/Anscombe%27s_quartet), accessed 12th October 2018.\n",
    "* [The ASA Statistical Computing Section: A History](http://stat-computing.org/computing/history/chambers-ryan.html) by John M. Chambers and Barbara F. Ryan, originally appeared in The American Statistician, May 1990 (Volume 4, No. 2, pp 87-89). Accessed 12th October 2018.\n",
    "* [A Brief History of Data Visualization (Archived Link)](https://web.archive.org/web/20160531195841/http://www.datavis.ca/papers/hbook.pdf) by Michael Friendly, Handbook of Computational Statistics: Data Visualization, 2006. Accessed 12th October 2018."
   ]
  },
  {
   "cell_type": "code",
   "execution_count": null,
   "metadata": {},
   "outputs": [],
   "source": []
  }
 ],
 "metadata": {
  "kernelspec": {
   "display_name": "Python 3",
   "language": "python",
   "name": "python3"
  },
  "language_info": {
   "codemirror_mode": {
    "name": "ipython",
    "version": 3
   },
   "file_extension": ".py",
   "mimetype": "text/x-python",
   "name": "python",
   "nbconvert_exporter": "python",
   "pygments_lexer": "ipython3",
   "version": "3.6.5"
  }
 },
 "nbformat": 4,
 "nbformat_minor": 2
}
