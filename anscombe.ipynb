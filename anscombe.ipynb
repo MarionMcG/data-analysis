{
 "cells": [
  {
   "cell_type": "markdown",
   "metadata": {},
   "source": [
    "# Investigate Anscombe's Quartet"
   ]
  },
  {
   "cell_type": "markdown",
   "metadata": {},
   "source": [
    "## Background of the Dataset"
   ]
  },
  {
   "cell_type": "markdown",
   "metadata": {},
   "source": [
    "Anscombe's quartet are four sets of bivariate data. They are of interest because they share many of the same measures of central tendency and variance, but when graphed it's obvious that the four data sets are very different.\n",
    "\n",
    "<img src=\"images/datasets.png\" style=\"width: 450px;\"/>"
   ]
  },
  {
   "cell_type": "markdown",
   "metadata": {},
   "source": [
    "The four datasets were constructed by Francis Anscombe, a British statistican, who believed visualising data sets was essential to fully understanding the context of your results. \n",
    "\n",
    "Michael Friendly has described the early 20th Century as the ***Modern Dark Ages of Visualisation***, with mathematicans concerned with exact answers viewing graphical representations as inaccurate. By 1973, when Anscombe constructed his sets, computers were been used for statistical analysis of datasets, and many statisticans saw this as the way forward for data analysis, but programs for visualising data were still in their infancy and not widely used.  "
   ]
  },
  {
   "cell_type": "markdown",
   "metadata": {},
   "source": [
    "## Plotting the Dataset"
   ]
  },
  {
   "cell_type": "code",
   "execution_count": 1,
   "metadata": {},
   "outputs": [],
   "source": [
    "import numpy as np\n",
    "import matplotlib.pyplot as plt"
   ]
  },
  {
   "cell_type": "code",
   "execution_count": 2,
   "metadata": {},
   "outputs": [],
   "source": [
    "#Set 1\n",
    "x1 = [10, 8, 13, 9, 11, 14, 6, 4, 12, 7, 5]\n",
    "y1 = [8.04, 6.95, 7.58, 8.81, 8.33, 9.96, 7.24, 4.26, 10.84, 4.82, 5.68]\n"
   ]
  },
  {
   "cell_type": "code",
   "execution_count": 52,
   "metadata": {},
   "outputs": [
    {
     "name": "stdout",
     "output_type": "stream",
     "text": [
      "['x', 'y', 'group', '#']\n",
      "['10', '8.04', 'A', '1']\n",
      "['8', '6.95', 'A', '2']\n",
      "['13', '7.58', 'A', '3']\n",
      "['9', '8.81', 'A', '4']\n",
      "['11', '8.33', 'A', '5']\n",
      "['14', '9.96', 'A', '6']\n",
      "['6', '7.24', 'A', '7']\n",
      "['4', '4.26', 'A', '8']\n",
      "['12', '10.84', 'A', '9']\n",
      "['7', '4.82', 'A', '10']\n",
      "['5', '5.68', 'A', '11']\n",
      "['10', '9.14', 'B', '1']\n",
      "['8', '8.14', 'B', '2']\n",
      "['13', '8.74', 'B', '3']\n",
      "['9', '8.77', 'B', '4']\n",
      "['11', '9.26', 'B', '5']\n",
      "['14', '8.1', 'B', '6']\n",
      "['6', '6.13', 'B', '7']\n",
      "['4', '3.1', 'B', '8']\n",
      "['12', '9.13', 'B', '9']\n",
      "['7', '7.26', 'B', '10']\n",
      "['5', '4.74', 'B', '11']\n",
      "['10', '7.46', 'C', '1']\n",
      "['8', '6.77', 'C', '2']\n",
      "['13', '12.74', 'C', '3']\n",
      "['9', '7.11', 'C', '4']\n",
      "['11', '7.81', 'C', '5']\n",
      "['14', '8.84', 'C', '6']\n",
      "['6', '6.08', 'C', '7']\n",
      "['4', '5.39', 'C', '8']\n",
      "['12', '8.15', 'C', '9']\n",
      "['7', '6.42', 'C', '10']\n",
      "['5', '5.73', 'C', '11']\n",
      "['8', '6.58', 'D', '1']\n",
      "['8', '5.76', 'D', '2']\n",
      "['8', '7.71', 'D', '3']\n",
      "['8', '8.84', 'D', '4']\n",
      "['8', '8.47', 'D', '5']\n",
      "['8', '7.04', 'D', '6']\n",
      "['8', '5.25', 'D', '7']\n",
      "['19', '12.5', 'D', '8']\n",
      "['8', '5.56', 'D', '9']\n",
      "['8', '7.91', 'D', '10']\n",
      "['8', '6.89', 'D', '11']\n"
     ]
    }
   ],
   "source": [
    "import csv \n",
    "with open ('csv/anscombe.csv') as f:\n",
    "    data = csv.reader(f, delimiter=',')\n",
    "    for row in data:\n",
    "        print (row)"
   ]
  },
  {
   "cell_type": "code",
   "execution_count": null,
   "metadata": {},
   "outputs": [],
   "source": []
  },
  {
   "cell_type": "code",
   "execution_count": null,
   "metadata": {},
   "outputs": [],
   "source": []
  },
  {
   "cell_type": "markdown",
   "metadata": {},
   "source": [
    "## Calculate the descriptive statistics of the variables in the dataset"
   ]
  },
  {
   "cell_type": "code",
   "execution_count": null,
   "metadata": {},
   "outputs": [],
   "source": []
  },
  {
   "cell_type": "markdown",
   "metadata": {},
   "source": [
    "## Evaluation "
   ]
  },
  {
   "cell_type": "code",
   "execution_count": null,
   "metadata": {},
   "outputs": [],
   "source": []
  },
  {
   "cell_type": "markdown",
   "metadata": {},
   "source": [
    "## References\n",
    "\n",
    "* [Anscombe's Quartet, Wikipedia page](https://en.wikipedia.org/wiki/Anscombe%27s_quartet), accessed 12th October 2018.\n",
    "* [The ASA Statistical Computing Section: A History](http://stat-computing.org/computing/history/chambers-ryan.html) by John M. Chambers and Barbara F. Ryan, originally appeared in The American Statistician, May 1990 (Volume 4, No. 2, pp 87-89). Accessed 12th October 2018.\n",
    "* [A Brief History of Data Visualization (Archived Link)](https://web.archive.org/web/20160531195841/http://www.datavis.ca/papers/hbook.pdf) by Michael Friendly, Handbook of Computational Statistics: Data Visualization, 2006. Accessed 12th October 2018."
   ]
  },
  {
   "cell_type": "code",
   "execution_count": null,
   "metadata": {},
   "outputs": [],
   "source": []
  }
 ],
 "metadata": {
  "kernelspec": {
   "display_name": "Python 3",
   "language": "python",
   "name": "python3"
  },
  "language_info": {
   "codemirror_mode": {
    "name": "ipython",
    "version": 3
   },
   "file_extension": ".py",
   "mimetype": "text/x-python",
   "name": "python",
   "nbconvert_exporter": "python",
   "pygments_lexer": "ipython3",
   "version": "3.6.5"
  }
 },
 "nbformat": 4,
 "nbformat_minor": 2
}
